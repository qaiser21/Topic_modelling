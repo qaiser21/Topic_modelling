{
 "cells": [
  {
   "cell_type": "code",
   "execution_count": 20,
   "metadata": {},
   "outputs": [],
   "source": [
    "import pandas as pd\n",
    "import datetime as dt\n",
    "from flashtext import KeywordProcessor\n",
    "import pymongo \n",
    "#import spacy\n",
    "import multiprocessing as mp\n",
    "import functools\n",
    "\n",
    "pool = mp.Pool(mp.cpu_count())"
   ]
  },
  {
   "cell_type": "code",
   "execution_count": 6,
   "metadata": {},
   "outputs": [],
   "source": [
    "def source_data(source_name):\n",
    "    client = pymongo.MongoClient(\"mongodb://130.23.9.144:27017/\", 27017, maxPoolSize = 50)\n",
    "    db = client[source_name]\n",
    "    data  = list(db.data.find())\n",
    "    return pd.DataFrame(data)\n",
    "\n",
    "field_name = ['Mess_trans','Title_Trans']\n",
    "source_name = 'German_Sprinklr_v0_3'\n",
    "df = source_data(source_name)"
   ]
  },
  {
   "cell_type": "code",
   "execution_count": 10,
   "metadata": {},
   "outputs": [],
   "source": [
    "molecule = pd.read_excel(\"Z:\\\\PMO\\\\Text Mining\\\\molecule.xlsx\")\n",
    "corp = pd.read_excel(\"Z:\\\\PMO\\\\Text Mining\\\\corp.xlsx\")\n",
    "product = pd.read_excel(\"Z:\\\\PMO\\\\Text Mining\\\\product.xlsx\")\n",
    "reaction = pd.read_csv(\"Z:\\\\Text Mining\\\\reaction\\\\reac2018q4.csv\")"
   ]
  },
  {
   "cell_type": "code",
   "execution_count": 8,
   "metadata": {},
   "outputs": [],
   "source": [
    "prod = product.loc[product['Sales1'] > 1.632000e+03]   \n",
    "corp1 = corp.loc[corp['Sales'] > 3.238885e+03] "
   ]
  },
  {
   "cell_type": "code",
   "execution_count": 11,
   "metadata": {},
   "outputs": [],
   "source": [
    "PROD=[x.strip() for x in prod['International Product']]\n",
    "ORG = [x.strip() for x in corp1['Merged Corporation']]\n",
    "MOLECULE = [x.strip() for x in molecule['Molecule']]\n",
    "react = [x.strip() for x in reaction['pt']]\n",
    "unique_react = list(set(react))"
   ]
  },
  {
   "cell_type": "code",
   "execution_count": 12,
   "metadata": {},
   "outputs": [],
   "source": [
    "prod = KeywordProcessor()\n",
    "prod.add_keywords_from_list(PROD)\n",
    "\n",
    "\n",
    "org = KeywordProcessor()\n",
    "org.add_keywords_from_list(ORG)\n",
    "\n",
    "molecule = KeywordProcessor()\n",
    "molecule.add_keywords_from_list(MOLECULE)\n",
    "\n",
    "\n",
    "reaction = KeywordProcessor()\n",
    "reaction.add_keywords_from_list(unique_react)\n",
    "\n"
   ]
  },
  {
   "cell_type": "code",
   "execution_count": 14,
   "metadata": {},
   "outputs": [],
   "source": [
    "kw_dict = {}\n",
    "kw_dict['SYMPTOMS'] =reaction\n",
    "kw_dict['PRODUCT'] = prod\n",
    "kw_dict['ORGANISATION'] = org\n",
    "kw_dict['MOLECULE'] = molecule\n"
   ]
  },
  {
   "cell_type": "code",
   "execution_count": 21,
   "metadata": {},
   "outputs": [],
   "source": [
    "def kw_extract(dict_, df, fields, source_name):\n",
    "    \n",
    "    kp_name = list(kw_dict.keys())\n",
    "    iCount=0\n",
    "    mongo_db = []\n",
    "    lstColor=[\"#00FF00\",\"#FF00FF\",\"#800080\",\"#00FFFF\",\"#0000A0\",\"#A52A2A\",\"#800000\",\"#808000\",\"#2B3856\",\"#38ACEC\",\"#4E8975\",\"#728C00\",\"#6AA121\",\"#AF7817\",\"#E56717\",\"#E67451\",\"#F75D59\",\"#C04000\",\"#800517\",\"#7D0541\",\"#7F4E52\",\"#F52887\",\"#FF00FF\",\"#571B7E\",\"#614051\"]\n",
    "    \n",
    "    for kp in kp_name:\n",
    "        iCount+=1\n",
    "        for colname in fields:\n",
    "            ner_dict = {}\n",
    "            bucket_detail = []\n",
    "            df[colname + '_' + kp] = pool.map(functools.partial(kw_dict[kp].extract_keywords,span_info  = True), df[colname])\n",
    "            \n",
    "            for  i in range(len(df[colname + '_' + kp])):\n",
    "                for ind in range(len(df[colname + '_' + kp][i])):\n",
    "                    bucket_dict = {}\n",
    "                    bucket_dict['itemId'] = str(df['_id'][i])\n",
    "                    bucket_dict['fieldname']  = colname\n",
    "                    bucket_dict['status']  = \"active\"\n",
    "                    bucket_dict['range'] = dict({\"from\":str(df[colname + '_'  + kp][i][ind][1]),\"to\":str(df[colname + '_' + kp][i][ind][2])})\n",
    "                    #bucket_dict['start'] = df[colname + '_'  + kp][i][ind][1]\n",
    "                    #bucket_dict['end'] = df[colname + '_' + kp][i][ind][2]\n",
    "                    bucket_dict['tagid']  = str(df['_id'][i])+\"_\"+str(colname)+\"_\"+str(df[colname + '_'  + kp][i][ind][1])+\"_\"+str(df[colname + '_' + kp][i][ind][2])\n",
    "                    bucket_dict['text']  = str(df[colname + '_' + kp][i][ind][0])\n",
    "                    bucket_dict['comment']=\"\"\n",
    "                    bucket_detail.append(bucket_dict)\n",
    "            ner_dict['bucketname'] = kp\n",
    "            ner_dict['description'] = \"NA\"\n",
    "            ner_dict['dbname']  = source_name\n",
    "            ner_dict['type'] = \"model\"\n",
    "            ner_dict['status'] = \"active\"\n",
    "            ner_dict['createdby'] = \"Anonymous\"\n",
    "            ner_dict['createddt'] = dt.datetime.now()\n",
    "            ner_dict['modifiedby'] = \"Anonymous\"\n",
    "            ner_dict['modifieddt'] = dt.datetime.now()\n",
    "            ner_dict['color'] = lstColor[iCount]\n",
    "            ner_dict['bucketdetail'] = bucket_detail\n",
    "            mongo_db.append(ner_dict)\n",
    "    \n",
    "    return mongo_db "
   ]
  },
  {
   "cell_type": "code",
   "execution_count": 22,
   "metadata": {},
   "outputs": [],
   "source": [
    "mongo_db = kw_extract(kw_dict, df,field_name, source_name)"
   ]
  },
  {
   "cell_type": "code",
   "execution_count": 23,
   "metadata": {},
   "outputs": [
    {
     "data": {
      "text/plain": [
       "8"
      ]
     },
     "execution_count": 23,
     "metadata": {},
     "output_type": "execute_result"
    }
   ],
   "source": [
    "len(mongo_db)"
   ]
  },
  {
   "cell_type": "code",
   "execution_count": null,
   "metadata": {},
   "outputs": [],
   "source": []
  }
 ],
 "metadata": {
  "kernelspec": {
   "display_name": "Python 3",
   "language": "python",
   "name": "python3"
  },
  "language_info": {
   "codemirror_mode": {
    "name": "ipython",
    "version": 3
   },
   "file_extension": ".py",
   "mimetype": "text/x-python",
   "name": "python",
   "nbconvert_exporter": "python",
   "pygments_lexer": "ipython3",
   "version": "3.6.5"
  }
 },
 "nbformat": 4,
 "nbformat_minor": 2
}
